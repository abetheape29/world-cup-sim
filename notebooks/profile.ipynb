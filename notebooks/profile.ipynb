{
 "cells": [
  {
   "cell_type": "code",
   "execution_count": 3,
   "id": "8e98a16f",
   "metadata": {},
   "outputs": [],
   "source": [
    "from data.odds_api import OddsAPIClient\n",
    "from core.vig import strip_vig_outrights\n",
    "from core.strength import calc_team_strength\n",
    "from core.tournament import simulate_many\n",
    "\n",
    "raw = OddsAPIClient().to_dataframe(OddsAPIClient().fetch())\n",
    "df = strip_vig_outrights(raw)\n",
    "strength_df = calc_team_strength(df)\n"
   ]
  },
  {
   "cell_type": "code",
   "execution_count": 8,
   "id": "83f7607e",
   "metadata": {},
   "outputs": [],
   "source": [
    "def run_mc(n_runs: int = 400):\n",
    "    simulate_many(strength_df, n_runs=n_runs, seed=0)"
   ]
  },
  {
   "cell_type": "code",
   "execution_count": 9,
   "id": "22e1637e",
   "metadata": {},
   "outputs": [
    {
     "name": "stdout",
     "output_type": "stream",
     "text": [
      "Wrote profile_20250604T230752Z.prof – view with:\n",
      "  snakeviz notebooks/profile_20250604T230752Z.prof\n"
     ]
    }
   ],
   "source": [
    "import cProfile, pathlib, datetime as dt\n",
    "from datetime import timezone\n",
    "\n",
    "stamp = dt.datetime.now(tz=timezone.utc).strftime(\"%Y%m%dT%H%M%SZ\")\n",
    "out   = pathlib.Path.cwd() / f\"profile_{stamp}.prof\"\n",
    "\n",
    "cProfile.run(\"run_mc()\", out.as_posix())    \n",
    "\n",
    "print(f\"Wrote {out.name} – view with:\\n  snakeviz notebooks/{out.name}\")\n"
   ]
  },
  {
   "cell_type": "code",
   "execution_count": 7,
   "id": "4d0af350",
   "metadata": {},
   "outputs": [
    {
     "name": "stdout",
     "output_type": "stream",
     "text": [
      "def simulate_many(strength_df: pd.DataFrame, n_runs: int = 100_000, seed: int | None = None) -> pd.DataFrame:\n",
      "    rng = np.random.default_rng(seed)\n",
      "    winners = [simulate_tournament_once(strength_df, rng) for _ in range(n_runs)]\n",
      "    vc = pd.Series(winners).value_counts().rename_axis(\"team\").to_frame(\"champion_prob\")\n",
      "    vc[\"champion_prob\"] /= n_runs\n",
      "    return vc.reset_index()\n",
      "\n"
     ]
    }
   ],
   "source": [
    "import inspect, textwrap, core.tournament as T\n",
    "print(textwrap.dedent(inspect.getsource(T.simulate_many))[:400])\n"
   ]
  },
  {
   "cell_type": "code",
   "execution_count": 2,
   "id": "ad9a039f",
   "metadata": {},
   "outputs": [
    {
     "name": "stdout",
     "output_type": "stream",
     "text": [
      "['/Library/Frameworks/Python.framework/Versions/3.10/lib/python310.zip',\n",
      " '/Library/Frameworks/Python.framework/Versions/3.10/lib/python3.10',\n",
      " '/Library/Frameworks/Python.framework/Versions/3.10/lib/python3.10/lib-dynload',\n",
      " '',\n",
      " '/Users/abrahmazulay/Dev/world-cup-sim/.venv/lib/python3.10/site-packages']\n",
      "spec is None\n"
     ]
    }
   ],
   "source": [
    "import sys, pprint, importlib.util\n",
    "pprint.pprint(sys.path[:5])               # should show '/path/to/world-cup-sim'\n",
    "\n",
    "spec = importlib.util.find_spec(\"src\")\n",
    "print(\"spec is\", spec)\n"
   ]
  }
 ],
 "metadata": {
  "kernelspec": {
   "display_name": ".venv",
   "language": "python",
   "name": "python3"
  },
  "language_info": {
   "codemirror_mode": {
    "name": "ipython",
    "version": 3
   },
   "file_extension": ".py",
   "mimetype": "text/x-python",
   "name": "python",
   "nbconvert_exporter": "python",
   "pygments_lexer": "ipython3",
   "version": "3.10.7"
  }
 },
 "nbformat": 4,
 "nbformat_minor": 5
}
